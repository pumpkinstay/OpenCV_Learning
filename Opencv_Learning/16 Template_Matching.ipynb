{
 "cells": [
  {
   "cell_type": "code",
   "execution_count": 2,
   "metadata": {},
   "outputs": [
    {
     "name": "stdout",
     "output_type": "stream",
     "text": [
      "[[-0.01846169 -0.01898301 -0.01968848 ..., -0.30450395 -0.31370085\n",
      "  -0.32247633]\n",
      " [-0.01911085 -0.01995519 -0.0208125  ..., -0.30124983 -0.3100231\n",
      "  -0.31839678]\n",
      " [-0.01981777 -0.02082722 -0.02202812 ..., -0.29876706 -0.30701706\n",
      "  -0.31481853]\n",
      " ..., \n",
      " [ 0.09505608  0.09302317  0.09032281 ..., -0.16313463 -0.16972357\n",
      "  -0.1753857 ]\n",
      " [ 0.09739172  0.09525535  0.09310283 ..., -0.16574575 -0.17239569\n",
      "  -0.17787924]\n",
      " [ 0.10073186  0.09752931  0.09528335 ..., -0.16783139 -0.17459367\n",
      "  -0.18005963]]\n",
      "(array([214]), array([145]))\n"
     ]
    }
   ],
   "source": [
    "import numpy as np\n",
    "import cv2\n",
    "img = cv2.imread('noodle.png', 1)\n",
    "gray_img = cv2.imread('noodle.png', 0)\n",
    "# cv2.line(gray_img,(0,0),(400,400),(0,255,0),3)\n",
    "template = cv2.imread('noodle_red.png', 0)\n",
    "w,h = template.shape[::-1]  # [::-1] 从右往左\n",
    "\n",
    "\n",
    "res = cv2.matchTemplate(gray_img, template, cv2.TM_CCOEFF_NORMED)\n",
    "print(res)\n",
    "threshold = 0.98\n",
    "loc = np.where(res >= threshold)\n",
    "print(loc)\n",
    "for pt in zip(*loc[::-1]): # reverse x and y\n",
    "    cv2.rectangle(img,pt,(pt[0]+w,pt[1]+h),(0,0,255),2)\n",
    "\n",
    "cv2.imshow('img', img)\n",
    "cv2.waitKey(0)\n",
    "cv2.destroyAllWindows()"
   ]
  },
  {
   "cell_type": "code",
   "execution_count": 23,
   "metadata": {},
   "outputs": [
    {
     "name": "stdout",
     "output_type": "stream",
     "text": [
      "(3, 640, 480)\n"
     ]
    }
   ],
   "source": [
    "print(img.shape[::-1])"
   ]
  }
 ],
 "metadata": {
  "kernelspec": {
   "display_name": "Python [conda env:tensorflow12]",
   "language": "python",
   "name": "conda-env-tensorflow12-py"
  },
  "language_info": {
   "codemirror_mode": {
    "name": "ipython",
    "version": 3
   },
   "file_extension": ".py",
   "mimetype": "text/x-python",
   "name": "python",
   "nbconvert_exporter": "python",
   "pygments_lexer": "ipython3",
   "version": "3.6.5"
  }
 },
 "nbformat": 4,
 "nbformat_minor": 2
}
