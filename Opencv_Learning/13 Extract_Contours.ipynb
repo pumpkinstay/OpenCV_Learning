{
 "cells": [
  {
   "cell_type": "code",
   "execution_count": 12,
   "metadata": {},
   "outputs": [
    {
     "name": "stdout",
     "output_type": "stream",
     "text": [
      "Number of contours =  44\n"
     ]
    }
   ],
   "source": [
    "import cv2\n",
    "import numpy as np\n",
    "import matplotlib.pyplot as plt\n",
    "import matplotlib.image as mpimg\n",
    "\n",
    "# it's easier to find contours in grayscale than color mode\n",
    "img = cv2.imread('color.jpg',1)\n",
    "imgray= cv2.imread('color.jpg',0)\n",
    "_,thresh = cv2.threshold(imgray,113,225,0)\n",
    "# contours is a Python list of all the contours in the imgae.\n",
    "# Each individual contour is a Numpy array of (x,y) coordinates of boundary points of the object\n",
    "_,contours,hierachy= cv2.findContours(thresh,cv2.RETR_TREE,cv2.CHAIN_APPROX_NONE)\n",
    "print(\"Number of contours = \",str(len(contours)))\n",
    "\n",
    "# 0: draw the first contour which is found in this image\n",
    "img1 = cv2.imread('color.jpg',1)\n",
    "cv2.drawContours(img1,contours,30,(0,255,0),3)\n",
    "\n",
    "# -1: draw all contours\n",
    "cv2.drawContours(img,contours,-1,(0,255,0),3)  \n",
    "\n",
    "cv2.imshow('img1',img1)\n",
    "cv2.imshow('img',img)\n",
    "cv2.imshow('gray',imgray)\n",
    "\n",
    "cv2.waitKey(0)\n",
    "cv2.destroyAllWindows()"
   ]
  }
 ],
 "metadata": {
  "kernelspec": {
   "display_name": "Python [conda env:tensorflow12]",
   "language": "python",
   "name": "conda-env-tensorflow12-py"
  },
  "language_info": {
   "codemirror_mode": {
    "name": "ipython",
    "version": 3
   },
   "file_extension": ".py",
   "mimetype": "text/x-python",
   "name": "python",
   "nbconvert_exporter": "python",
   "pygments_lexer": "ipython3",
   "version": "3.6.5"
  }
 },
 "nbformat": 4,
 "nbformat_minor": 2
}
