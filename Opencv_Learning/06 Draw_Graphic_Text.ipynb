{
 "cells": [
  {
   "cell_type": "markdown",
   "metadata": {},
   "source": [
    "## 06 形状/文字绘制\n",
    "\n",
    "- 1. 图形\n",
    "- 2. 文字\n",
    "\n",
    "---\n",
    "\n",
    "\n",
    "#### 1. 图形\n",
    "线段，矩形，圆形"
   ]
  },
  {
   "cell_type": "code",
   "execution_count": 1,
   "metadata": {},
   "outputs": [],
   "source": [
    "import numpy as np\n",
    "import cv2"
   ]
  },
  {
   "cell_type": "code",
   "execution_count": 4,
   "metadata": {},
   "outputs": [],
   "source": [
    "# —— line ——\n",
    "\n",
    "newImageInfo = (500, 500, 3)\n",
    "dst = np.zeros(newImageInfo, np.uint8)\n",
    "# 绘制线段 1 dstImage 2 begin 3 end 4 color\n",
    "cv2.line(dst, (100, 100), (400, 400), (0, 0, 255))\n",
    "\n",
    "# 5 lineWidth\n",
    "cv2.line(dst, (100, 200), (400, 200), (0, 255, 255), 20)\n",
    "\n",
    "# 6 lineType  cv2.LINE_AA的线条更光滑\n",
    "cv2.line(dst, (100, 300), (400, 300), (0, 255, 255), 20, cv2.LINE_AA)\n",
    "\n",
    "# 三角形\n",
    "cv2.line(dst, (200, 150), (50, 250), (25, 100, 40), 5)\n",
    "cv2.line(dst, (50, 250), (400, 380), (25, 100, 40), 5)\n",
    "cv2.line(dst, (400, 380), (200, 150), (25, 100, 40), 5)\n",
    "\n",
    "cv2.imshow('image', dst)\n",
    "cv2.waitKey(0)\n",
    "cv2.destroyAllWindows()"
   ]
  },
  {
   "cell_type": "code",
   "execution_count": 35,
   "metadata": {
    "scrolled": true
   },
   "outputs": [
    {
     "name": "stdout",
     "output_type": "stream",
     "text": [
      "(5, 2)\n",
      "[[150  50]\n",
      " [140 140]\n",
      " [200 170]\n",
      " [250 250]\n",
      " [150  50]]\n",
      "(5, 1, 2)\n",
      "[[[150  50]]\n",
      "\n",
      " [[140 140]]\n",
      "\n",
      " [[200 170]]\n",
      "\n",
      " [[250 250]]\n",
      "\n",
      " [[150  50]]]\n"
     ]
    }
   ],
   "source": [
    "# —— 矩形圆形etc ——\n",
    "\n",
    "newImageInfo = (500, 500, 3)\n",
    "dst = np.zeros(newImageInfo, np.uint8)\n",
    "\n",
    "# 1 dst 2 左上角 3 右下角 4 颜色 5 (-1):fill or (>0):lineW()\n",
    "cv2.rectangle(dst, (10, 100), (100, 200), (100, 50, 120), -1)\n",
    "cv2.rectangle(dst, (110, 100), (200, 200), (90, 140, 123), 2)\n",
    "\n",
    "# 2 center 3 r\n",
    "\n",
    "cv2.circle(dst, (250, 250), 50, (120, 140, 50), 2)\n",
    "\n",
    "# 2 椭圆圆心 3 长短轴  4 angle 5 begin 6 end 7 (-1):fill or (>0):lineW()\n",
    "cv2.ellipse(dst, (400, 250), (80, 30), 0, 0, 360, (90, 80, 180), 2)\n",
    "\n",
    "# 任意多边形\n",
    "points = np.array([[150, 50], [140, 140], [200, 170], [250, 250], [150, 50]],\n",
    "                  np.int32)\n",
    "print(points.shape)\n",
    "print(points)\n",
    "points = points.reshape((-1, 1, 2))\n",
    "print(points.shape)\n",
    "print(points)\n",
    "cv2.polylines(dst,[points],True,(145,80,20),2)\n",
    "\n",
    "cv2.imshow('image', dst)\n",
    "cv2.waitKey(0)\n",
    "cv2.destroyAllWindows()"
   ]
  },
  {
   "cell_type": "code",
   "execution_count": 2,
   "metadata": {},
   "outputs": [
    {
     "name": "stdout",
     "output_type": "stream",
     "text": [
      "(1, 5, 2)\n",
      "[[[150  50]\n",
      "  [140 140]\n",
      "  [200 170]\n",
      "  [250 250]\n",
      "  [150  50]]]\n"
     ]
    }
   ],
   "source": [
    "# 这是个用来理解reshape()的例子 \n",
    "# 上面的 points.shape=(5,1,2)\n",
    "# 这个是 (1,5,2)  放入polylines也没错\n",
    "# anyway 要把一个坐标当作一个元素来看\n",
    "newImageInfo = (500, 500, 3)\n",
    "dst = np.zeros(newImageInfo, np.uint8)\n",
    "points = np.array([[[150, 50], [140, 140], [200, 170], [250, 250], [150, 50]]],\n",
    "                  np.int32)\n",
    "print(points.shape)\n",
    "print(points)\n",
    "\n",
    "cv2.polylines(dst,[points],True,(145,80,20),2)\n",
    "\n",
    "cv2.imshow('image', dst)\n",
    "cv2.waitKey(0)\n",
    "cv2.destroyAllWindows()"
   ]
  },
  {
   "cell_type": "markdown",
   "metadata": {},
   "source": [
    "#### 2. 文字 图片绘制\n",
    "---\n"
   ]
  },
  {
   "cell_type": "code",
   "execution_count": 3,
   "metadata": {},
   "outputs": [],
   "source": [
    "import numpy as np\n",
    "import cv2"
   ]
  },
  {
   "cell_type": "code",
   "execution_count": null,
   "metadata": {},
   "outputs": [],
   "source": [
    "img=cv2.imread('Album.jpg',1)\n",
    "font=cv2.FONT_HERSHEY_SIMPLEX\n",
    "cv2.rectangle(img,(200,100),(500,400),(0,255,0),3)\n",
    "\n",
    "# 1 img 2 文字内容 3 坐标 4 5 字体大小 6 color 7 lineWidth 8 LineType\n",
    "cv2.putText(img,'this is flow',(100,300),font,1,(200,100,255),2,cv2.LINE_AA)\n",
    "cv2.imshow('src',img)\n",
    "cv2.waitKey(0)\n",
    "cv2.destroyAllWindows()"
   ]
  },
  {
   "cell_type": "code",
   "execution_count": null,
   "metadata": {},
   "outputs": [],
   "source": [
    "# pic+pic*0.2\n",
    "img=cv2.imread('Album.jpg',1)\n",
    "imgInfo=img.shape\n",
    "height=int(imgInfo[0]*0.2)\n",
    "width=int(imgInfo[1]*0.2)\n",
    "imgResize=cv2.resize(img,(width,height))\n",
    "for i in range(0,height):\n",
    "    for j in range(0,width):\n",
    "        img[i+200,j+350]=imgResize[i,j]\n",
    "        \n",
    "cv2.imshow('src',img)\n",
    "cv2.waitKey(0)\n",
    "cv2.destroyAllWindows()"
   ]
  }
 ],
 "metadata": {
  "kernelspec": {
   "display_name": "Python [conda env:tensorflow12]",
   "language": "python",
   "name": "conda-env-tensorflow12-py"
  },
  "language_info": {
   "codemirror_mode": {
    "name": "ipython",
    "version": 3
   },
   "file_extension": ".py",
   "mimetype": "text/x-python",
   "name": "python",
   "nbconvert_exporter": "python",
   "pygments_lexer": "ipython3",
   "version": "3.6.5"
  }
 },
 "nbformat": 4,
 "nbformat_minor": 2
}
