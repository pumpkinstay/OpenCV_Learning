{
 "cells": [
  {
   "cell_type": "markdown",
   "metadata": {},
   "source": [
    "# 01 图片显示"
   ]
  },
  {
   "cell_type": "code",
   "execution_count": null,
   "metadata": {},
   "outputs": [],
   "source": [
    "import cv2\n",
    "# 1.文件读取 2.封装格式解析 3.数据解码 4.数据加载\n",
    "img=cv2.imread('Album.jpg',1) # 1 彩色 0 灰度\n",
    "cv2.imshow('image',img)\n",
    "# jpg png 1.头文件 2.文件数据\n",
    "# 1. 头文件——编码信息 2. 数据——非原始图片数据，而是编码后的图片数据\n",
    "cv2.waitKey(0)"
   ]
  },
  {
   "cell_type": "markdown",
   "metadata": {},
   "source": [
    "# 02 图片写入"
   ]
  },
  {
   "cell_type": "code",
   "execution_count": null,
   "metadata": {},
   "outputs": [],
   "source": [
    "import cv2\n"
   ]
  },
  {
   "cell_type": "code",
   "execution_count": null,
   "metadata": {},
   "outputs": [],
   "source": [
    "\n",
    "img=cv2.imread('Album.jpg',1)\n",
    "\n",
    "# jpg QUALITY range: 0 - 100 -> 1M 100k 10k  有损压缩,无法设置透明度\n",
    "# 1 address+name  2 data 3 指定图片质量 \n",
    "cv2.imwrite('image1.jpg',img,[cv2.IMWRITE_JPEG_QUALIT,0])\n"
   ]
  },
  {
   "cell_type": "code",
   "execution_count": null,
   "metadata": {},
   "outputs": [],
   "source": [
    "# png 1.无损 2.透明度\n",
    "# 1 addr+name 2 data 3 压缩比(0 无压缩)\n",
    "cv2.imwrite('ImgPNG.png',img,[cv2.IMWRITE_PNG_COMPRESSION,0])"
   ]
  },
  {
   "cell_type": "markdown",
   "metadata": {},
   "source": [
    "# 03 像素操作"
   ]
  },
  {
   "cell_type": "code",
   "execution_count": null,
   "metadata": {},
   "outputs": [],
   "source": [
    "# RGB 8bit 0-255\n",
    "# 1.14M = 720 * 547 * 3 * 8 bit/8(Byte) = 1.14M\n",
    "# RGB alpha(透明度)\n",
    "# bgr (第一个通道是蓝色) \n",
    "# opencv像素读取方式是bgr\n",
    "\n",
    "img=cv2.imread('Album.jpg',1)\n",
    "(b,g,r)=img[100,100] # opencv像素读取是bgr\n",
    "print(b,g,r)\n"
   ]
  },
  {
   "cell_type": "code",
   "execution_count": null,
   "metadata": {},
   "outputs": [],
   "source": [
    "\n",
    "#10 100 -- 110 100\n",
    "for i in range(1,100):\n",
    "    img[10+i,100]=(255,0,0) # 蓝色 因为`bgr格式\n",
    "cv2.imshow('image',img)\n",
    "cv2.waitKey(0) # if waitKey(1000)  1000ms, 1s"
   ]
  },
  {
   "cell_type": "markdown",
   "metadata": {},
   "source": [
    "### python 小插曲\n",
    "\n",
    "#### print使用/列表元祖字典"
   ]
  },
  {
   "cell_type": "code",
   "execution_count": null,
   "metadata": {},
   "outputs": [],
   "source": [
    "# print(*objects, sep=' ', end='\\n', file=sys.stdout, flush=False)\n",
    "\n",
    "''' objects -- 复数，表示可以一次输出多个对象。输出多个对象时，需要用 , 分隔。\n",
    "    sep -- 用来间隔多个对象，默认值是一个空格。\n",
    "    end -- 用来设定以什么结尾。默认值是换行符 \\n，我们可以换成其他字符串。\n",
    "    file -- 要写入的文件对象。\n",
    "    flush -- 输出是否被缓存通常决定于 file，但如果 flush 关键字参数为 True，流会被强制刷新。\n",
    "'''\n",
    "\n",
    "import time \n",
    "print(\"loading\",end=\"\")\n",
    "for i in range(20):\n",
    "    print(\".\",end=\"\",flush=True)\n",
    "    time.sleep(0.5)"
   ]
  },
  {
   "cell_type": "code",
   "execution_count": 12,
   "metadata": {},
   "outputs": [
    {
     "name": "stdout",
     "output_type": "stream",
     "text": [
      "[6, 4, 2]\n",
      "[5, 4, 3, 2, 1]\n",
      "[5, 4, 3, 2, 1]\n",
      "[1, 32, 2, 3, 4, 5, 6, 7]\n"
     ]
    }
   ],
   "source": [
    "#———— 列表——————\n",
    "# 切片使用\n",
    "c=[1,2,3,4,5,6,7]\n",
    "# 切出 [6,4,2]用c[-2::-2] 从倒数第2个开始 且到头，步长为-2\n",
    "print(c[-2::-2])\n",
    "\n",
    "# 效果相同的：\n",
    "print(c[4::-1])\n",
    "print(c[-3::-1])\n",
    "\n",
    "# 插入\n",
    "c.insert(1,32)\n",
    "print(c)\n",
    "\n",
    "#————— 元祖 ——————\n",
    "f=(1,2,3) # 定义好就不能改变"
   ]
  },
  {
   "cell_type": "markdown",
   "metadata": {},
   "source": [
    "**单双三引号**"
   ]
  },
  {
   "cell_type": "code",
   "execution_count": 9,
   "metadata": {},
   "outputs": [
    {
     "name": "stdout",
     "output_type": "stream",
     "text": [
      "line1 = line2\n",
      "line1 = line2\n",
      "if there's single quotes\n",
      "if there is double quotes and no need to use \"\\\"\n",
      "\n",
      "if there're several lines that \n",
      "you want to print\n",
      "and don't want to use \\n\n"
     ]
    }
   ],
   "source": [
    "print('line1 = line2')\n",
    "print(\"line1 = line2\")\n",
    "print(\"if there's single quotes\")\n",
    "print('if there is double quotes and no need to use \"\\\\\"')\n",
    "print()\n",
    "print(\"\"\"if there're several lines that \n",
    "you want to print\n",
    "and don't want to use \\\\n\"\"\")"
   ]
  }
 ],
 "metadata": {
  "kernelspec": {
   "display_name": "Python [conda env:anaconda3]",
   "language": "python",
   "name": "conda-env-anaconda3-py"
  },
  "language_info": {
   "codemirror_mode": {
    "name": "ipython",
    "version": 3
   },
   "file_extension": ".py",
   "mimetype": "text/x-python",
   "name": "python",
   "nbconvert_exporter": "python",
   "pygments_lexer": "ipython3",
   "version": "3.6.9"
  }
 },
 "nbformat": 4,
 "nbformat_minor": 2
}
