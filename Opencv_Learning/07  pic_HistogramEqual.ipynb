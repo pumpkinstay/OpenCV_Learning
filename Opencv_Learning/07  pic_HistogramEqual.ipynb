{
 "cells": [
  {
   "cell_type": "markdown",
   "metadata": {},
   "source": [
    "## 07 直方图均衡化\n",
    "- 1. 求图片RGB三个通道的直方图\n",
    "- 2. 直方图均衡\n",
    "    - gray\n",
    "    - RGB\n",
    "    - YUV(YCrCb)\n",
    "---\n",
    "\n",
    "#### 1. 求图片RGB三个通道的直方图\n",
    "\n"
   ]
  },
  {
   "cell_type": "code",
   "execution_count": 53,
   "metadata": {},
   "outputs": [],
   "source": [
    "import numpy as np\n",
    "import cv2\n",
    "\n",
    "def ImageHist(image, type):\n",
    "    color = (255, 255, 255)\n",
    "    windowName = 'gray'\n",
    "    if type == 31:\n",
    "        color = (255, 0, 0)\n",
    "        windowName = 'B Hist'\n",
    "    elif type == 32:\n",
    "        color = (0, 255, 0)\n",
    "        windowName = 'G Hist'\n",
    "    elif type == 33:\n",
    "        color = (0, 0, 255)\n",
    "        windowName = 'R Hist'\n",
    "    # 1 [image]一定要记得中括号\n",
    "    # 1 img 2 计算直方图的通道 3 mask 4 x轴点数-灰度值 5 0-255\n",
    "    hist = cv2.calcHist([image],[0],None,[256],[0.0,255.0])\n",
    "    # 最大值最小值的坐标&值\n",
    "    minVal,maxVal,minLoc,maxLoc=cv2.minMaxLoc(hist)\n",
    "    histImg=np.ones([256,256,3],np.uint8)*255\n",
    "    for h in range(256):\n",
    "        intenNormal=int(hist[h]*256/maxVal) # y轴的值归一到[0,256]\n",
    "        cv2.line(histImg,(h,256),(h,256-intenNormal),color)\n",
    "    cv2.imshow(windowName, histImg)\n",
    "    return histImg\n",
    "\n",
    "img = cv2.imread('Album.jpg', 1)\n",
    "channels=cv2.split(img) # 分解RGB - R G B\n",
    "for i in range(0,3):\n",
    "    ImageHist(channels[i],31+i)\n",
    "\n",
    "cv2.waitKey(0)\n",
    "cv2.destroyAllWindows()"
   ]
  },
  {
   "cell_type": "markdown",
   "metadata": {},
   "source": [
    "#### 2. 直方图均衡"
   ]
  },
  {
   "cell_type": "code",
   "execution_count": 51,
   "metadata": {},
   "outputs": [],
   "source": [
    "\n",
    "import numpy as np\n",
    "import cv2\n",
    "\n",
    "# 灰度图均衡化\n",
    "img = cv2.imread('Album.jpg', 1)\n",
    "gray=cv2.cvtColor(img,cv2.COLOR_BGR2GRAY)\n",
    "dst=cv2.equalizeHist(gray)\n",
    "\n",
    "\n",
    "# 彩色 直方图均衡化\n",
    "(b,g,r) = cv2.split(img) \n",
    "bH=cv2.equalizeHist(b)\n",
    "gH=cv2.equalizeHist(g)\n",
    "rH=cv2.equalizeHist(r)\n",
    "result=cv2.merge((bH,gH,rH)) # 通道合成\n",
    "\n",
    "# YUV通道的均衡化\n",
    "imgYUV=cv2.cvtColor(img,cv2.COLOR_BGR2YCrCb)\n",
    "channelYUV=cv2.split(imgYUV)\n",
    "channelYUV[0]=cv2.equalizeHist(channelYUV[0])\n",
    "channels=cv2.merge(channelYUV)\n",
    "resultYUV=cv2.cvtColor(channels,cv2.COLOR_YCrCb2BGR)\n",
    "\n",
    "cv2.imshow('gray',dst)\n",
    "cv2.imshow('BGR',result)\n",
    "cv2.imshow('YUV',resultYUV)\n",
    "cv2.waitKey(0)\n",
    "cv2.destroyAllWindows()\n",
    "\n"
   ]
  },
  {
   "cell_type": "code",
   "execution_count": null,
   "metadata": {},
   "outputs": [
    {
     "name": "stdout",
     "output_type": "stream",
     "text": [
      "(307200,)\n"
     ]
    }
   ],
   "source": [
    "## matplotlib的histogram\n",
    "\n",
    "import numpy as np\n",
    "import cv2\n",
    "import matplotlib.pyplot as plt\n",
    "\n",
    "img=cv2.imread('noodle.png',0)\n",
    "cv2.rectangle(img,(0,100),(200,200),(255),-1) # -1: fill the rect\n",
    "\n",
    "print(img.ravel().shape)\n",
    "# plt.figure(figsize=(7,4))\n",
    "plt.figure()\n",
    "plt.hist(img.ravel(),256,[0,256]) # plt的hist,必须把img变成一维向量\n",
    "# plt.figure(figsize=(7,4),dpi=200)\n",
    "# plt.figure(2,(7,4),200)\n",
    "# plt.imshow(cv2.cvtColor(img,cv2.COLOR_BGR2RGB))\n",
    "\n",
    "# —— 用cv2来计算his——\n",
    "hist=cv2.calcHist([img],[0],None,[256],[0,256])\n",
    "plt.figure()\n",
    "plt.plot(hist)\n",
    "\n",
    "plt.show()\n",
    "\n",
    "\n",
    "# cv2.imshow('img',dst)\n",
    "# cv2.waitKey(0)\n",
    "# cv2.destroyAllWindows()"
   ]
  }
 ],
 "metadata": {
  "kernelspec": {
   "display_name": "Python [conda env:tensorflow12]",
   "language": "python",
   "name": "conda-env-tensorflow12-py"
  },
  "language_info": {
   "codemirror_mode": {
    "name": "ipython",
    "version": 3
   },
   "file_extension": ".py",
   "mimetype": "text/x-python",
   "name": "python",
   "nbconvert_exporter": "python",
   "pygments_lexer": "ipython3",
   "version": "3.6.5"
  }
 },
 "nbformat": 4,
 "nbformat_minor": 2
}
