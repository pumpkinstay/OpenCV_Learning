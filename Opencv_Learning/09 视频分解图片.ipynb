{
 "cells": [
  {
   "cell_type": "markdown",
   "metadata": {},
   "source": [
    "## 11 视频分解图片\n",
    "我们需要自己采集大量样本的时候，一张张照非常麻烦，可以拍视频，然后分解成上千张图片\n",
    "\n",
    "视频写入函数：<br />\n",
    "VideoWriter('name.xx',fourcc,fps,size)<br />\n",
    "- fourcc : 编码器选择<br />\n",
    "1）-1 ：自动选择一个编码(我在linux jupyter环境下测试的，好像不可以)<br />\n",
    "2）fourcc = cv2.VideoWriter_fourcc(\\*'XVID') 配合.avi<br />\n",
    "  fourcc = cv2.VideoWriter_fourcc(\\*'FMP4') 配合.mp4<br />\n",
    "3）可用列表见：[Video Codecs by FOURCC](http://www.fourcc.org/codecs.php)\n",
    "\n",
    "\n"
   ]
  },
  {
   "cell_type": "code",
   "execution_count": 4,
   "metadata": {},
   "outputs": [
    {
     "name": "stdout",
     "output_type": "stream",
     "text": [
      "<built-in method isOpened of cv2.VideoCapture object at 0x7f06fc247cb0>\n",
      "fps width height:\n",
      "29.99938984291845 1920 1072\n",
      "image1.jpg\n",
      "image2.jpg\n",
      "image3.jpg\n",
      "image4.jpg\n",
      "image5.jpg\n",
      "image6.jpg\n",
      "image7.jpg\n",
      "image8.jpg\n",
      "image9.jpg\n",
      "image10.jpg\n",
      "end!\n"
     ]
    }
   ],
   "source": [
    "# 视频分解图片\n",
    "# 1 load(isOpen?) 2 info 3 parse 4 imshow imwrite\n",
    "import cv2\n",
    "cap=cv2.VideoCapture(\"family.mp4\")\n",
    "fps = cap.get(cv2.CAP_PROP_FPS) #帧率\n",
    "width=int(cap.get(cv2.CAP_PROP_FRAME_WIDTH))\n",
    "height=int(cap.get(cv2.CAP_PROP_FRAME_HEIGHT))\n",
    "print('fps','width','height:')\n",
    "print(fps,width,height)\n",
    "i=0\n",
    "while(cap.isOpened()):\n",
    "    if i ==10:  # 10张\n",
    "        break\n",
    "    else:\n",
    "        i=i+1\n",
    "    flag,frame=cap.read() # 是否读取成功:flag  图片内容:frame\n",
    "    fileName='image'+str(i)+'.jpg'\n",
    "    print(fileName)\n",
    "    if flag==True:\n",
    "        cv2.imwrite(fileName,frame,[cv2.IMWRITE_JPEG_QUALITY,100])\n",
    "print('end!')\n",
    "    "
   ]
  },
  {
   "cell_type": "code",
   "execution_count": 11,
   "metadata": {},
   "outputs": [
    {
     "name": "stdout",
     "output_type": "stream",
     "text": [
      "end!\n"
     ]
    }
   ],
   "source": [
    "# 图片合成视频\n",
    "import cv2\n",
    "img=cv2.imread('image1.jpg')\n",
    "imgInfo=img.shape\n",
    "size=(imgInfo[1],imgInfo[0])\n",
    "fourcc = cv2.VideoWriter_fourcc(*'XVID') # or FMP4,下面后缀改称.mp4\n",
    "# 2 选择一个支持的编码器 3 FPS 4 size(width,height)\n",
    "videoWrite=cv2.VideoWriter('Pic2Vieo.avi',fourcc,5,size)\n",
    "\n",
    "for i in range(1,11):\n",
    "    fileName='image'+str(i)+'.jpg'\n",
    "    img=cv2.imread(fileName)\n",
    "    videoWrite.write(img)  # 写入方法 1 jpg data\n",
    "\n",
    "cv2.VideoWriter.release()\n",
    "print('end!')"
   ]
  }
 ],
 "metadata": {
  "kernelspec": {
   "display_name": "Python [conda env:tensorflow12]",
   "language": "python",
   "name": "conda-env-tensorflow12-py"
  },
  "language_info": {
   "codemirror_mode": {
    "name": "ipython",
    "version": 3
   },
   "file_extension": ".py",
   "mimetype": "text/x-python",
   "name": "python",
   "nbconvert_exporter": "python",
   "pygments_lexer": "ipython3",
   "version": "3.6.5"
  }
 },
 "nbformat": 4,
 "nbformat_minor": 2
}
