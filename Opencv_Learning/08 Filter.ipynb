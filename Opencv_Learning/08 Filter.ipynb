{
 "cells": [
  {
   "cell_type": "markdown",
   "metadata": {},
   "source": [
    "## 08 滤波\n",
    "- 1. 高斯均值滤波\n",
    "- 2. 中值滤波\n",
    "---\n",
    "#### 1. 高斯均值滤波"
   ]
  },
  {
   "cell_type": "code",
   "execution_count": 1,
   "metadata": {},
   "outputs": [],
   "source": [
    "import numpy as np\n",
    "import cv2\n",
    "img = cv2.imread('Album.jpg', 1)\n",
    "\n",
    "dst = cv2.GaussianBlur(img, (5, 5), 1.5)\n",
    "\n",
    "cv2.imshow('img', dst)\n",
    "cv2.waitKey(0)\n",
    "cv2.destroyAllWindows()\n",
    "\n",
    "\n",
    "# —— 自己写高斯 ——\n",
    "\n",
    "imgInfo=img.shape\n",
    "height=imgInfo[0]\n",
    "width=imgInfo[1]\n",
    "dst = np.zeros(img.shape,np.uint8)\n",
    "\n",
    "# 没有做边缘处理，可以选择如常数填充、向外扩张（临近点插值、双线性插值）\n",
    "\n",
    "# B G R分别计算\n",
    "for i in range(3,height-3):\n",
    "    for j in range(3,width-3):\n",
    "        sum_b=int(0)\n",
    "        sum_g=int(0)\n",
    "        sum_r=int(0)\n",
    "        # 6x6的模板\n",
    "        for m in range(-3,3):  #-3 -2 -1 0 1 2 \n",
    "            for n in range(-3,3):\n",
    "                (b,g,r)=img[i+m,j+n]\n",
    "                sum_b=sum_b+int(b)  #转int 防止越界\n",
    "                sum_g=sum_g+int(g)\n",
    "                sum_r=sum_r+int(r)\n",
    "        b = np.uint8(sum_b/36)\n",
    "        g = np.uint8(sum_g/36)\n",
    "        r = np.uint8(sum_r/36)\n",
    "        dst[i,j]=(b,g,r)\n",
    "\n",
    "cv2.imshow('img', dst)\n",
    "cv2.waitKey(0)\n",
    "cv2.destroyAllWindows()"
   ]
  },
  {
   "cell_type": "markdown",
   "metadata": {},
   "source": [
    "#### 2. 中值滤波"
   ]
  },
  {
   "cell_type": "code",
   "execution_count": 1,
   "metadata": {},
   "outputs": [],
   "source": [
    "import numpy as np\n",
    "import cv2\n",
    "img = cv2.imread('Album.jpg', 1)\n",
    "imgInfo = img.shape\n",
    "height = imgInfo[0]\n",
    "width = imgInfo[1]\n",
    "\n",
    "img = cv2.cvtColor(img, cv2.COLOR_BGR2GRAY)\n",
    "dst = np.zeros(imgInfo, np.uint8)\n",
    "collect = np.zeros(9, np.uint8)\n",
    "\n",
    "for i in range(1, height-1):\n",
    "    for j in range(1, width-1):\n",
    "        k = 0\n",
    "        # 3x3卷积\n",
    "        for m in range(-1,2):\n",
    "            for n in range(-1,2):\n",
    "                gray=img[i+m,j+n]\n",
    "                collect[k]=gray\n",
    "                k=k+1\n",
    "        # 找到顺序排序的9个元素的中值\n",
    "        for k in range(9):\n",
    "            for t in range(k+1,9):\n",
    "                if collect[t]<collect[k]:\n",
    "                    temp=collect[t]\n",
    "                    collect[t]=collect[k]\n",
    "                    collect[k]=temp\n",
    "        dst[i,j]=collect[4]\n",
    "        \n",
    "cv2.imshow('origin', img)\n",
    "cv2.imshow('img', dst)\n",
    "cv2.waitKey(0)\n",
    "cv2.destroyAllWindows()"
   ]
  }
 ],
 "metadata": {
  "kernelspec": {
   "display_name": "Python [conda env:tensorflow12]",
   "language": "python",
   "name": "conda-env-tensorflow12-py"
  },
  "language_info": {
   "codemirror_mode": {
    "name": "ipython",
    "version": 3
   },
   "file_extension": ".py",
   "mimetype": "text/x-python",
   "name": "python",
   "nbconvert_exporter": "python",
   "pygments_lexer": "ipython3",
   "version": "3.6.5"
  }
 },
 "nbformat": 4,
 "nbformat_minor": 2
}
