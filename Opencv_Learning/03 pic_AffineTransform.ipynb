{
 "cells": [
  {
   "cell_type": "markdown",
   "metadata": {},
   "source": [
    "## 仿射变换\n",
    "\n",
    "- 利用三个点（左上角、左下角、右上角）的拉伸，重新映射出newX,newY\n",
    "- why 三个点？ 三点确定平面。\n",
    "\n"
   ]
  },
  {
   "cell_type": "code",
   "execution_count": 29,
   "metadata": {},
   "outputs": [],
   "source": [
    "import cv2 \n",
    "import numpy as np\n",
    "import matplotlib.pyplot as plt"
   ]
  },
  {
   "cell_type": "code",
   "execution_count": null,
   "metadata": {},
   "outputs": [],
   "source": [
    "img = cv2.imread('Album.jpg', 1)\n",
    "imgInfo = img.shape\n",
    "height = imgInfo[0]\n",
    "width = imgInfo[1]\n",
    "\n",
    "# src 3点(左上 左下 右上) -> dst 3点\n",
    "matSrc = np.float32([[0, 0], [0, width - 1], [height - 1, 0]])  # 三个点\n",
    "# matSrc = np.float32([[0,0],[0,400],[500,0]]) # 取别的点也可以\n",
    "matDst = np.float32([[50, 50], [300, width - 200], [height - 300, 100]])\n",
    "# 组合\n",
    "matAffine = cv2.getAffineTransform(matSrc, matDst)  #para: 1 src 2 dst\n",
    "dst = cv2.warpAffine(img, matAffine, (width, height))\n",
    "\n",
    "cv2.imshow('img', dst)\n",
    "cv2.waitKey(0)\n",
    "cv2.destroyAllWindows()"
   ]
  },
  {
   "cell_type": "markdown",
   "metadata": {},
   "source": [
    "## 图片旋转\n"
   ]
  },
  {
   "cell_type": "code",
   "execution_count": 5,
   "metadata": {},
   "outputs": [],
   "source": [
    "\n",
    "import cv2 \n",
    "import numpy as np\n",
    "\n",
    "img=cv2.imread('Album.jpg',1)\n",
    "imgInfo=img.shape\n",
    "height=imgInfo[0]\n",
    "width=imgInfo[1]\n",
    "\n",
    "\n",
    "# 2*3\n",
    "# 旋转也要缩放，以免旋转后超过画布被切割\n",
    "matRotate=cv2.getRotationMatrix2D((height*0.5,width*0.5),45,0.5) # 1 center 2 angle 3 scale\n",
    "\n",
    "# 100*100 25\n",
    "dst = cv2.warpAffine(img,matRotate,(height,width))\n",
    "\n",
    "cv2.imshow('img', dst)\n",
    "cv2.waitKey(0)\n",
    "cv2.destroyAllWindows()"
   ]
  }
 ],
 "metadata": {
  "kernelspec": {
   "display_name": "Python [conda env:tensorflow12]",
   "language": "python",
   "name": "conda-env-tensorflow12-py"
  },
  "language_info": {
   "codemirror_mode": {
    "name": "ipython",
    "version": 3
   },
   "file_extension": ".py",
   "mimetype": "text/x-python",
   "name": "python",
   "nbconvert_exporter": "python",
   "pygments_lexer": "ipython3",
   "version": "3.6.5"
  }
 },
 "nbformat": 4,
 "nbformat_minor": 2
}
