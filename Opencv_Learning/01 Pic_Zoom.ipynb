{
 "cells": [
  {
   "cell_type": "markdown",
   "metadata": {},
   "source": [
    "## Pic_Zoom\n",
    "\n",
    "- 1. opencv 的图片缩放\n",
    "- 2. 插值方法\n",
    "- 3. matScale + warpAffine()\n",
    "\n",
    "\n",
    "#### 1. opencv 的图片缩放\n",
    "\n",
    "---\n"
   ]
  },
  {
   "cell_type": "code",
   "execution_count": null,
   "metadata": {},
   "outputs": [],
   "source": [
    "# 1 load 2 info 3 resize 4 check\n",
    "import cv2\n",
    "img = cv2.imread('Album.jpg', 1)\n",
    "imgInfo = img.shape  # h * w * channels (i.e.: RBG, 3 channels)\n",
    "print(imgInfo)\n",
    "height = imgInfo[0]  # int\n",
    "width = imgInfo[1]\n",
    "mode = imgInfo[2]\n",
    "\n",
    "# 1 放大/缩小 2 等/非等比例缩放 2:3\n",
    "\n",
    "# 等比例: 乘上相同系数\n",
    "dstHeight = int(height * 0.5)\n",
    "dstWidth = int(width * 0.5)\n",
    "\n",
    "dst = cv2.resize(img, (dstWidth, dstHeight))\n",
    "cv2.imshow('image', dst)\n",
    "cv2.waitKey(0)\n",
    "cv2.destroyAllWindows()"
   ]
  },
  {
   "cell_type": "markdown",
   "metadata": {},
   "source": [
    "#### 2. 插值方法\n",
    "- 插值方法：最近邻域插值 双线性 像素关系重采样 立方插值<br />\n",
    "\n",
    "\n",
    "- 目的：src缩小为dst，dst(x,y) <- src(newX,newY)<br />\n",
    "- 公式：\n",
    "```\n",
    "newX= x*(src行数/dst行数)\n",
    "newY= y*(src列数/dst列数)\n",
    "```\n",
    "\n",
    "\n",
    "- 例子：求某一点dst(?,?)，根据公式求出应该取原图的(newX,newY)= (15.2,22.3) <br />\n",
    "\n",
    "<img src=\"pic_Markdown/zoom1.png\" width=\"30%\">\n",
    "\n",
    "```\n",
    "1) 最近邻域插值：(15.2,22.3) = (15,22) \n",
    "2) 双线性: 需要用到src(15.2,22.4)周围四点的值\n",
    "    A1 A2 B1 B2坐标:\n",
    "    A1(15.2,22)  A2(15.2,23) : 橘蓝交点\n",
    "    B1(15,22.3)  B2(16,22.3) ：绿蓝交点\n",
    "    \n",
    "    A1 A2 B1 B2像素值计算:\n",
    "    # A1 = 20%上方 + 80%下方 ,A2同理\n",
    "    # B1 = 30%左方 + 70%右方 ,B2同 \n",
    "    \n",
    "    最终点像素值：\n",
    "    # 1）最终点 = 30%A1 + 70%A2 \n",
    "    # 2）最终点 = 20%B1 + 80%B2\n",
    "```\n"
   ]
  },
  {
   "cell_type": "code",
   "execution_count": null,
   "metadata": {},
   "outputs": [],
   "source": [
    "# src 10*20 ,dst 5*10\n",
    "\n",
    "# 最近邻域插值\n",
    "# e.g:\n",
    "#      求dst(1,2) 该点像素值\n",
    "#  newX= x*(src行数/dst行数)= 1 *（10/5)=2\n",
    "#  newY= y*(src列数/dst列数)= 2 * (20/10)=4\n",
    "#      so dst(1,2) <- src(2,4)\n",
    "# 如果(newX,newY)为小数  12.3 = 12 四舍五入\n",
    "\n",
    "# 双线性插值\n",
    "# A1 = 20%上方 + 80%下方 ,A2同理\n",
    "# B1 = 30%左方 + 70%右方 ,B2同\n",
    "# 1）最终点 = 30%A1 + 70%A2\n",
    "# 2）最终点 = 20%B1 + 80%B2\n",
    "\n",
    "import cv2\n",
    "import numpy as np\n",
    "# 1 img_info 2 空白模板 3 xy 4 注意数据类型\n",
    "# 邻近插值法\n",
    "img = cv2.imread('Album.jpg', 1)\n",
    "imgInfo = img.shape\n",
    "height = img.shape[0]  # int\n",
    "width = img.shape[1]\n",
    "dstHeight = int(height / 2)  # int/int = float\n",
    "# int//int = int\n",
    "dstWidth = int(width / 2)  # dstWidth = width//2 也OK\n",
    "dstImage = np.zeros((dstHeight, dstWidth, 3), np.uint8)  # 0-255\n",
    "for i in range(0, dstHeight):  # 高度 -> 行\n",
    "    for j in range(0, dstWidth):  # 宽度 列\n",
    "        iNew = int(i * (height * 1.0 / dstHeight))  # *1.0 保证float\n",
    "        jNew = int(j * (width * 1.0 / dstWidth))\n",
    "        dstImage[i, j] = img[iNew, jNew]\n",
    "cv2.imshow('dstImage', dstImage)\n",
    "cv2.waitKey(0)\n",
    "cv2.destroyAllWindows()"
   ]
  },
  {
   "cell_type": "markdown",
   "metadata": {},
   "source": [
    "#### 3. matScale 缩放矩阵\n",
    "自己定义一个matScale,配合cv2.warpAffine(img,matScale,img.shape)来实现图片缩放<br />\n",
    "matScale：\n",
    "\n",
    "$$\n",
    " \\begin{bmatrix}\n",
    "   A1 & A2 & B1 \\\\\n",
    "   A3 & A4 & B2 \n",
    "  \\end{bmatrix} \n",
    "$$\n",
    "\n",
    "$$newX=A1*x+A2*y +B1\\\\\n",
    "newY=A3*x+A4*y+B2\n",
    "$$\n",
    "\n",
    "所以如果缩放0.5倍：x->x\\*0.5, y->y\\*0.5<br />\n",
    "即：newX = 0.5\\*x  <br />\n",
    "则可得到$A1=0.5, A2=B1=0$，这样来定义matScale\n"
   ]
  },
  {
   "cell_type": "code",
   "execution_count": 1,
   "metadata": {},
   "outputs": [
    {
     "data": {
      "text/plain": [
       "107"
      ]
     },
     "execution_count": 1,
     "metadata": {},
     "output_type": "execute_result"
    }
   ],
   "source": [
    "# matScale=[[A1 A2 B1],[A3 A4 B2]]\n",
    "# newX = A1 * x + A2 * y + B1\n",
    "# newY = A3 * x + A4 * y + B2\n",
    "# newX = 0.5 * x , 则A1=0.5\n",
    "\n",
    "import cv2\n",
    "import numpy as np\n",
    "\n",
    "img = cv2.imread('Album.jpg', 1)\n",
    "imgInfo = img.shape\n",
    "height = img.shape[0]  # int\n",
    "width = img.shape[1]\n",
    "# 缩放矩阵 // 图片移位也可以定义一个移位矩阵，用warpAffine()实现移位\n",
    "matScale=np.float32([[0.5,0,0],[0,0.5,0]])\n",
    "dst=cv2.warpAffine(img,matScale,(width//2,height//2))\n",
    "cv2.imshow('dstImage',dst)\n",
    "cv2.waitKey(0)\n",
    "cv2.destroyAllWindows()"
   ]
  }
 ],
 "metadata": {
  "kernelspec": {
   "display_name": "Python [conda env:tensorflow12]",
   "language": "python",
   "name": "conda-env-tensorflow12-py"
  },
  "language_info": {
   "codemirror_mode": {
    "name": "ipython",
    "version": 3
   },
   "file_extension": ".py",
   "mimetype": "text/x-python",
   "name": "python",
   "nbconvert_exporter": "python",
   "pygments_lexer": "ipython3",
   "version": "3.6.5"
  }
 },
 "nbformat": 4,
 "nbformat_minor": 2
}
