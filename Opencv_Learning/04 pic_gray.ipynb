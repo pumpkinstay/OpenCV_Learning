{
 "cells": [
  {
   "cell_type": "markdown",
   "metadata": {},
   "source": [
    "## pic_gray\n",
    "- 1. 灰度处理\n",
    "- 2. 算法优化\n",
    "\n",
    "#### 1. 灰度处理\n",
    "---\n"
   ]
  },
  {
   "cell_type": "code",
   "execution_count": 2,
   "metadata": {},
   "outputs": [],
   "source": [
    "import numpy as np\n",
    "import cv2"
   ]
  },
  {
   "cell_type": "code",
   "execution_count": 4,
   "metadata": {},
   "outputs": [],
   "source": [
    "# API\n",
    "img = cv2.imread('Album.jpg',1)\n",
    "dst=cv2.cvtColor(img,cv2.COLOR_RGB2GRAY)\n",
    "cv2.imshow('img',dst)\n",
    "cv2.waitKey(0)\n",
    "cv2.destroyAllWindows()"
   ]
  },
  {
   "cell_type": "code",
   "execution_count": 7,
   "metadata": {},
   "outputs": [],
   "source": [
    "# 自己写\n",
    "img = cv2.imread('Album.jpg',1)\n",
    "imgInfo=img.shape\n",
    "height=imgInfo[0]\n",
    "width=imgInfo[1]\n",
    "\n",
    "# 方法1 ：gray=(R + G + B)/3\n",
    "dst=np.zeros(imgInfo,np.uint8) # uint8在相加运算时可能溢出，需要进行数据转换\n",
    "\n",
    "for i in range(0,width):\n",
    "    for j in range(0,height):\n",
    "        (b,g,r)=img[i,j]\n",
    "        gray=(int(b)+int(g)+int(r))/3\n",
    "        dst[i,j]=np.uint8(gray)\n",
    "\n",
    "# 方法2 ：gray=(0.299*R + 0.587*G + 0.114*B)\n",
    "# 一个心理学的gray计算公式\n",
    "dst2=np.zeros(imgInfo,np.uint8) # uint8在相加运算时可能溢出，需要进行数据转换\n",
    "\n",
    "for i in range(0,width):\n",
    "    for j in range(0,height):\n",
    "        (B,G,R)=img[i,j]\n",
    "        gray=(0.299*int(R) + 0.587*int(G) + 0.114*int(B))\n",
    "        dst2[i,j]=np.uint8(gray)\n",
    "\n",
    "cv2.imshow('img',dst)\n",
    "cv2.imshow('img2',dst2)\n",
    "cv2.waitKey(0)\n",
    "cv2.destroyAllWindows()\n",
    "\n"
   ]
  },
  {
   "cell_type": "markdown",
   "metadata": {},
   "source": [
    "#### 2. 算法优化\n",
    "---\n"
   ]
  },
  {
   "cell_type": "code",
   "execution_count": 1,
   "metadata": {},
   "outputs": [],
   "source": [
    "# 1 实时性 -> 算法优化 \n",
    "# 速度： 定点运算 > 浮点运算; 加减 > 乘除 ; 移位 >乘除\n",
    "\n",
    "# 浮点转定点：0.299*R + 0.587*G + 0.114*B\n",
    "# 0.299*4 = 1.xx 所以约等于 r*1/4\n",
    "# 0.587*2 = 1.xx 约等于 g*2/4  有误差存在\n",
    "# 如果要求高精度可以  /100  /1000 \n",
    "\n",
    "import numpy as np\n",
    "import cv2\n",
    "\n",
    "\n",
    "img = cv2.imread('Album.jpg',1)\n",
    "imgInfo=img.shape\n",
    "height=imgInfo[0]\n",
    "width=imgInfo[1]\n",
    "dst=np.zeros(imgInfo,np.uint8) \n",
    "\n",
    "\n",
    "for i in range(0,width):\n",
    "    for j in range(0,height):\n",
    "        (b,g,r)=img[i,j]\n",
    "        b=int(b)\n",
    "        g=int(g)\n",
    "        r=int(r)\n",
    "        gray=(r*1+g*2+b*1)/4  # 优化\n",
    "        gray=(r+(g<<1)+b)>>2  # 再优化 2选1即可\n",
    "\n",
    "        dst[i,j]=np.uint8(gray)\n",
    "\n",
    "\n",
    "cv2.imshow('img',dst)\n",
    "cv2.waitKey(0)\n",
    "cv2.destroyAllWindows()\n",
    "\n"
   ]
  }
 ],
 "metadata": {
  "kernelspec": {
   "display_name": "Python [conda env:tensorflow12]",
   "language": "python",
   "name": "conda-env-tensorflow12-py"
  },
  "language_info": {
   "codemirror_mode": {
    "name": "ipython",
    "version": 3
   },
   "file_extension": ".py",
   "mimetype": "text/x-python",
   "name": "python",
   "nbconvert_exporter": "python",
   "pygments_lexer": "ipython3",
   "version": "3.6.5"
  }
 },
 "nbformat": 4,
 "nbformat_minor": 2
}
