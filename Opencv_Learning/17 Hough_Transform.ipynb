{
 "cells": [
  {
   "cell_type": "markdown",
   "metadata": {},
   "source": [
    "# 17 霍夫变换\n",
    "#### 引言\n",
    "$y=mx+c$ 在 $x,y$ space中是一条线<br>\n",
    "在$m,c$ space中表示为一个点$(m,c)$<br>\n",
    "$So:$<br>\n",
    "如果在$x,y$ space中有一个点$(x_a,y_a)$<br>\n",
    "则可以在$m,c$ space中表示为一条线：$c=-x_am+y_a$\n",
    "#### Hough应用\n",
    "- 霍夫变换是特征提取技术。用于特定形状的特征提取。\n",
    "- 优点：能容忍特征边界描述中的间隙，并且相对不受图像噪声的影响。\n",
    "\n",
    "#### Hough原理\n",
    "\n",
    "$y=\\frac{-cos(\\theta_l)}{sin(\\theta_l)}x+\\frac{\\rho_l}{sin(\\theta_l)}$<br>\n",
    "<br>\n",
    "$(r,\\theta)$ 平面 aka 霍夫空间 : $r=x\\cos\\theta+y\\sin\\theta$<br>\n",
    "每个$(x_i,y_i)$映射到霍夫空间都是是正弦曲线的样子<br>\n",
    "<img src=\"pic_Markdown/hough.png\" width=\"70%\">\n",
    "\n",
    "#### 算法步骤\n",
    "- 1. 进行边缘检测，e.g. Canny\n",
    "- 2. 边缘的坐标点 --> 霍夫空间，并存储在累加器中(accumulator)\n",
    "- 3. interpretaion of the accumulator to yield lines of infinite length. The interpretation is done by thresholding and possibly other contraints.\n",
    "- 4. Conversion of infinite lines to finite lines\n",
    "\n",
    "#### OpenCV的霍夫变换\n",
    "有两种：\n",
    "- 标准霍夫变换 HoughLines method\n",
    "- The probabilistic Hough line transform (HoughLinesP method)"
   ]
  },
  {
   "cell_type": "code",
   "execution_count": null,
   "metadata": {},
   "outputs": [],
   "source": [
    "import numpy as np\n",
    "import cv2\n",
    "img=cv2.imread('Album.jpg',1)\n",
    "\n",
    "\n",
    "cv2.imshow('img',dst)\n",
    "cv2.waitKey(0)\n",
    "cv2.destroyAllWindows()"
   ]
  },
  {
   "cell_type": "code",
   "execution_count": null,
   "metadata": {},
   "outputs": [],
   "source": []
  }
 ],
 "metadata": {
  "kernelspec": {
   "display_name": "Python [conda env:tensorflow12]",
   "language": "python",
   "name": "conda-env-tensorflow12-py"
  },
  "language_info": {
   "codemirror_mode": {
    "name": "ipython",
    "version": 3
   },
   "file_extension": ".py",
   "mimetype": "text/x-python",
   "name": "python",
   "nbconvert_exporter": "python",
   "pygments_lexer": "ipython3",
   "version": "3.6.5"
  }
 },
 "nbformat": 4,
 "nbformat_minor": 2
}
