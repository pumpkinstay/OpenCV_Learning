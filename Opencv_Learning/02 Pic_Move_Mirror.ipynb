{
 "cells": [
  {
   "cell_type": "markdown",
   "metadata": {},
   "source": [
    "## 02 图片移位/镜像\n",
    "### 1. 移位\n",
    "\n"
   ]
  },
  {
   "cell_type": "code",
   "execution_count": null,
   "metadata": {},
   "outputs": [],
   "source": [
    "# 1 API 2 算法原理 3 源代码\n",
    "\n",
    "import cv2\n",
    "import numpy as np\n",
    "\n",
    "# x 移动100 y 移动200\n",
    "# API方法\n",
    "img = cv2.imread('Album.jpg', 1)\n",
    "imgInfo = img.shape\n",
    "height=imgInfo[0]\n",
    "width=imgInfo[1]\n",
    "\n",
    "matShift=np.float32([[1,0,100],[0,1,200]])\n",
    "dst=cv2.warpAffine(img,matShift,(height,width))# 1 data 2 mat 3 info\n",
    "\n",
    "cv2.imshow('dstImg', dst)\n",
    "cv2.waitKey(0)\n",
    "cv2.destroyAllWindows()\n",
    "\n",
    "# warpAffine()简单说明：\n",
    "# [1,0,100],[0,1,200] 2*3 拆分为 2*2 2*1\n",
    "# [[1,0],[0,1]]  2*2 A\n",
    "# [[100],[200]]  2*1 B\n",
    "# C ： img(x,y)\n",
    "# A*C + B = [[1*x+0*y],[0*x,1*y]]+[[100],200]\n",
    "#         = [[x+100],[y+200]] \n",
    "# （10,20) -> (110,220)\n"
   ]
  },
  {
   "cell_type": "code",
   "execution_count": 3,
   "metadata": {},
   "outputs": [],
   "source": [
    "\n",
    "\n",
    "import cv2\n",
    "import numpy as np\n",
    "\n",
    "# y+100 (右移100)\n",
    "# API方法\n",
    "img = cv2.imread('Album.jpg', 1)\n",
    "imgInfo = img.shape\n",
    "dst=np.zeros(img.shape,np.uint8)\n",
    "height=imgInfo[0]\n",
    "width=imgInfo[1]\n",
    "for i in range(0,height):\n",
    "    for j in range(0,width-100):\n",
    "        dst[i,j+100]=img[i,j]\n",
    "\n",
    "cv2.imshow('dstImg', dst)\n",
    "cv2.waitKey(0)\n",
    "cv2.destroyAllWindows()\n",
    "    \n"
   ]
  },
  {
   "cell_type": "markdown",
   "metadata": {},
   "source": [
    "### 2. 镜像\n"
   ]
  },
  {
   "cell_type": "code",
   "execution_count": 1,
   "metadata": {},
   "outputs": [],
   "source": [
    "import cv2\n",
    "import numpy as np\n",
    "\n",
    "# y+100 (右移100)\n",
    "# API方法\n",
    "img = cv2.imread('Album.jpg', 1)\n",
    "imgInfo = img.shape\n",
    "dst=np.zeros(img.shape,np.uint8)\n",
    "height=imgInfo[0]\n",
    "width=imgInfo[1]\n",
    "deep=imgInfo[2]\n",
    "\n",
    "# 镜像图片 新info\n",
    "newImgInfo=(height*2,width,deep)\n",
    "dst=np.zeros(newImgInfo,np.uint8)\n",
    "\n",
    "dst[0:height,0:width]=img[0:height,0:width]\n",
    "for i in range(0,height):\n",
    "    for j in range(0,width):\n",
    "        dst[height*2-i-1,j]=img[i,j]\n",
    "for i in range(0,width):\n",
    "    dst[height,i]=(0,0,255)  # gbr , red=255\n",
    "\n",
    "\n",
    "cv2.imshow('Img', dst)\n",
    "cv2.waitKey(0)\n",
    "cv2.destroyAllWindows()"
   ]
  }
 ],
 "metadata": {
  "kernelspec": {
   "display_name": "Python [conda env:tensorflow12]",
   "language": "python",
   "name": "conda-env-tensorflow12-py"
  },
  "language_info": {
   "codemirror_mode": {
    "name": "ipython",
    "version": 3
   },
   "file_extension": ".py",
   "mimetype": "text/x-python",
   "name": "python",
   "nbconvert_exporter": "python",
   "pygments_lexer": "ipython3",
   "version": "3.6.5"
  }
 },
 "nbformat": 4,
 "nbformat_minor": 2
}
