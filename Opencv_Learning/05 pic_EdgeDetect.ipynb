{
 "cells": [
  {
   "cell_type": "markdown",
   "metadata": {},
   "source": [
    "## 05 边缘检测\n",
    "- 1. canny\n",
    "- 2. sobel\n",
    "---\n",
    "\n"
   ]
  },
  {
   "cell_type": "code",
   "execution_count": 1,
   "metadata": {},
   "outputs": [],
   "source": [
    "\n",
    "import numpy as np\n",
    "import cv2\n",
    "import math"
   ]
  },
  {
   "cell_type": "code",
   "execution_count": 3,
   "metadata": {},
   "outputs": [],
   "source": [
    "img=cv2.imread('Album.jpg',1)\n",
    "imgInfo=img.shape\n",
    "height=imgInfo[0]\n",
    "width=imgInfo[1]\n",
    "deep=imgInfo[2]\n",
    "\n",
    "# —— canny ——\n",
    "# 1 gray 2 高斯滤波 3 canny\n",
    "gray=cv2.cvtColor(img,cv2.COLOR_BGR2GRAY)\n",
    "imgG=cv2.GaussianBlur(gray,(3,3),0)\n",
    "dst=cv2.Canny(imgG,50,50) # 1 data 2 threshold_1,threshold_2\n",
    "\n",
    "\n",
    "\n",
    "# —— sobel —— 算子模板: \n",
    "#   y        and        x\n",
    "# [1 2 1            [1 0 -1\n",
    "#  0 0 0             2 0 -2\n",
    "# -1 -2 -1]          1 0 -1]\n",
    "\n",
    "dst2=np.zeros((height,width,1),np.uint8) # 灰度图所以channel=1\n",
    "for i in range(0,height-2):\n",
    "    for j in range(0,width-2):\n",
    "        # gradient_y,gradient_x\n",
    "        gy= gray[i,j]*1+gray[i,j+1]*2 +gray[i,j+2]-gray[i+2,j]*1-gray[i+2,j+1]*2-gray[i+2,j+2]*1  \n",
    "        gx= gray[i,j]+gray[i+1,j]*2 +gray[i+2,j]-gray[i,j+2]*1-gray[i+1,j+2]*2-gray[i+2,j+2]*1\n",
    "        grad=math.sqrt(gx*gx+gy*gy)\n",
    "        if grad>50:\n",
    "            dst2[i,j]=255\n",
    "        else:\n",
    "            dst2[i,j]=0\n",
    "cv2.imshow('Canny',dst)\n",
    "cv2.imshow('Sobel',dst2)\n",
    "cv2.waitKey(0)\n",
    "cv2.destroyAllWindows()"
   ]
  }
 ],
 "metadata": {
  "kernelspec": {
   "display_name": "Python [conda env:tensorflow12]",
   "language": "python",
   "name": "conda-env-tensorflow12-py"
  },
  "language_info": {
   "codemirror_mode": {
    "name": "ipython",
    "version": 3
   },
   "file_extension": ".py",
   "mimetype": "text/x-python",
   "name": "python",
   "nbconvert_exporter": "python",
   "pygments_lexer": "ipython3",
   "version": "3.6.5"
  }
 },
 "nbformat": 4,
 "nbformat_minor": 2
}
